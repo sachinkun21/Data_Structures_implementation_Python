{
  "nbformat": 4,
  "nbformat_minor": 0,
  "metadata": {
    "colab": {
      "name": "Queue1.ipynb",
      "provenance": [],
      "collapsed_sections": [],
      "include_colab_link": true
    },
    "kernelspec": {
      "name": "python3",
      "display_name": "Python 3"
    }
  },
  "cells": [
    {
      "cell_type": "markdown",
      "metadata": {
        "id": "view-in-github",
        "colab_type": "text"
      },
      "source": [
        "<a href=\"https://colab.research.google.com/github/sachinkun21/Data_Structures_implementation_Python/blob/master/Queue1.ipynb\" target=\"_parent\"><img src=\"https://colab.research.google.com/assets/colab-badge.svg\" alt=\"Open In Colab\"/></a>"
      ]
    },
    {
      "cell_type": "markdown",
      "metadata": {
        "id": "eF-RhW2TGtEA",
        "colab_type": "text"
      },
      "source": [
        "## Queue:\n",
        "Queue is based on First-In-First-Out (FIFO) mechanism. \n",
        "\n",
        "Operations possible on the queue are:\n",
        "\n",
        "- En-queue or add an element to the end of the queue\n",
        "- De-queue or remove an element from the front of the queue"
      ]
    },
    {
      "cell_type": "code",
      "metadata": {
        "id": "0IwBPZ5KGVwV",
        "colab_type": "code",
        "colab": {}
      },
      "source": [
        "class Queue:\n",
        "\n",
        "  def __init__(self, max_size):\n",
        "    self.__max_size = max_size \n",
        "    self.__elements = [None]*max_size \n",
        "    self.__front = 0\n",
        "    self.__rear = -1 "
      ],
      "execution_count": 0,
      "outputs": []
    },
    {
      "cell_type": "markdown",
      "metadata": {
        "id": "PEP8IWnf9E4K",
        "colab_type": "text"
      },
      "source": [
        "#### is_full()\n",
        "- Check whether the Rear of the list is equal to (max_size-1):\n",
        "    - if Yes return True\n",
        "    - Else return False"
      ]
    },
    {
      "cell_type": "markdown",
      "metadata": {
        "id": "F5r0wVF0H0OQ",
        "colab_type": "text"
      },
      "source": [
        "### Enqueue (data):\n",
        "1. Check whether queue is full. If full, display appropriate message\n",
        "2. If not,\n",
        "   a. increment rear by one\n",
        "   b. Add the element at rear position in the elements array"
      ]
    },
    {
      "cell_type": "code",
      "metadata": {
        "id": "BwAqiFg1H04W",
        "colab_type": "code",
        "outputId": "bc8d777e-d04a-4fa2-8510-68aae7972bb2",
        "colab": {
          "base_uri": "https://localhost:8080/",
          "height": 51
        }
      },
      "source": [
        "class Queue:\n",
        "    def __init__(self,max_size):\n",
        "        self.__max_size=max_size\n",
        "        self.__elements=[None]*max_size\n",
        "        self.__rear=-1\n",
        "        self.__front=0\n",
        "        \n",
        "    def get_max_size(self):\n",
        "        return self.__max_size\n",
        "    \n",
        "    def is_full(self):\n",
        "        if self.__rear+1==self.__max_size:\n",
        "          return True\n",
        "        else:\n",
        "          return False\n",
        "        #Remove pass and write the logic to check whether Queue is full. If the queue is full, return true else return false.\n",
        "    \n",
        "    def enqueue(self,data):\n",
        "        if self.is_full():\n",
        "          print(\"Queue is full\")\n",
        "        else:\n",
        "          self.__rear+=1\n",
        "          self.__elements[self.__rear]=data\n",
        "\n",
        "        #Remove pass and write the logic to enqueue an element. Enqueue should be done only if queue is not full. Otherwise display appropriate message.\n",
        "    \n",
        " \n",
        "                                                  \n",
        "    #You can use the below __str__() to print the elements of the DS object while debugging\n",
        "    def __str__(self):\n",
        "        msg=[]\n",
        "        index=self.__front\n",
        "        while(index<=self.__rear):\n",
        "            msg.append((str)(self.__elements[index]))\n",
        "            index+=1\n",
        "        msg=\" \".join(msg)\n",
        "        msg=\"Queue data(Front to Rear): \"+msg\n",
        "        return msg\n",
        "\n",
        "\n",
        "\n",
        "queue1=Queue(2)\n",
        "\n",
        "#Enqueue all the required element(s).\n",
        "queue1.enqueue(\"Data1\")\n",
        "queue1.enqueue(\"Data2\")\n",
        "queue1.enqueue(\"Data3\")\n",
        "\n",
        "#Display all the elements in the queue.\n",
        "print(queue1)\n",
        "                             "
      ],
      "execution_count": 1,
      "outputs": [
        {
          "output_type": "stream",
          "text": [
            "Queue is full\n",
            "Queue data(Front to Rear): Data1 Data2\n"
          ],
          "name": "stdout"
        }
      ]
    },
    {
      "cell_type": "markdown",
      "metadata": {
        "id": "bmy28TKm6zDn",
        "colab_type": "text"
      },
      "source": [
        "is_Empty()\n",
        "- To check if the queue is empty or Not:\n",
        "- Check whether the value stored in rear is greater than front\n",
        "  - If yes than that means there is no Element in Queue, return True\n",
        "  - else Return False "
      ]
    },
    {
      "cell_type": "code",
      "metadata": {
        "id": "St3W1YvY7HBE",
        "colab_type": "code",
        "colab": {
          "base_uri": "https://localhost:8080/",
          "height": 34
        },
        "outputId": "c5019fc0-443c-4dca-ae47-282e2c9fdf2f"
      },
      "source": [
        "class Queue:\n",
        "    def __init__(self,max_size):\n",
        "        self.__max_size=max_size\n",
        "        self.__elements=[None]*max_size\n",
        "        self.__rear=-1\n",
        "        self.__front=0\n",
        "        \n",
        "    def get_max_size(self):\n",
        "        return self.__max_size\n",
        "    \n",
        "    def is_full(self):\n",
        "        if self.__rear+1==self.__max_size:\n",
        "          return True\n",
        "        else:\n",
        "          return False\n",
        "        #Remove pass and write the logic to check whether Queue is full. If the queue is full, return true else return false.\n",
        "    \n",
        "    def enqueue(self,data):\n",
        "        if self.is_full():\n",
        "          print(\"Queue is full\")\n",
        "        else:\n",
        "          self.__rear+=1\n",
        "          self.__elements[self.__rear]=data\n",
        "\n",
        "#   Function to check whether the Queue is empty or Not\n",
        "    def is_empty(self):\n",
        "      if self.__rear<self.__front:\n",
        "        return True\n",
        "      return False \n",
        "\n",
        "      \n",
        "                                                   \n",
        "    #You can use the below __str__() to print the elements of the DS object while debugging\n",
        "    def __str__(self):\n",
        "        msg=[]\n",
        "        index=self.__front\n",
        "        while(index<=self.__rear):\n",
        "            msg.append((str)(self.__elements[index]))\n",
        "            index+=1\n",
        "        msg=\" \".join(msg)\n",
        "        msg=\"Queue data(Front to Rear): \"+msg\n",
        "        return msg\n",
        "\n",
        "\n",
        "\n",
        "queue1=Queue(2)\n",
        "\n",
        "#Enqueue all the required element(s).\n",
        "\n",
        "\n",
        "#Display all the elements in the queue.\n",
        "queue1.is_empty()"
      ],
      "execution_count": 4,
      "outputs": [
        {
          "output_type": "execute_result",
          "data": {
            "text/plain": [
              "True"
            ]
          },
          "metadata": {
            "tags": []
          },
          "execution_count": 4
        }
      ]
    },
    {
      "cell_type": "markdown",
      "metadata": {
        "id": "OZMDDEUh5XAA",
        "colab_type": "text"
      },
      "source": [
        "### Display()\n",
        "for displaying all the elements of queue starting from Front to Rear:\n",
        "- Check whether queue is Empty, If Yes print appropriate message,\n",
        "- Else:- \n",
        "   - Access all the elements of self.__elements list \n",
        "   - Using a for loop with range between (Front to Rear+1).\n",
        "   - Print all the elements"
      ]
    },
    {
      "cell_type": "code",
      "metadata": {
        "id": "P6ey8F-36Do7",
        "colab_type": "code",
        "colab": {
          "base_uri": "https://localhost:8080/",
          "height": 170
        },
        "outputId": "3eda694c-e391-43c5-c92e-629a2cb16b8b"
      },
      "source": [
        "class Queue:\n",
        "    def __init__(self,max_size):\n",
        "        self.__max_size=max_size\n",
        "        self.__elements=[None]*max_size\n",
        "        self.__rear=-1\n",
        "        self.__front=0\n",
        "        \n",
        "    def get_max_size(self):\n",
        "        return self.__max_size\n",
        "    \n",
        "    def is_full(self):\n",
        "        if self.__rear+1==self.__max_size:\n",
        "          return True\n",
        "        else:\n",
        "          return False\n",
        "        #Remove pass and write the logic to check whether Queue is full. If the queue is full, return true else return false.\n",
        "    \n",
        "    def enqueue(self,data):\n",
        "        if self.is_full():\n",
        "          print(\"Queue is full\")\n",
        "        else:\n",
        "          self.__rear+=1\n",
        "          self.__elements[self.__rear]=data\n",
        "\n",
        "        #Remove pass and write the logic to enqueue an element. Enqueue should be done only if queue is not full. Otherwise display appropriate message.\n",
        "    \n",
        "    \n",
        "    #  Function to check whether the Queue is empty or Not\n",
        "    def is_empty(self):\n",
        "      if self.__rear<self.__front:\n",
        "        return True\n",
        "      return False \n",
        "    \n",
        "    def display(self):\n",
        "      print('------------------------------------------------------------------')\n",
        "      if self.is_empty():\n",
        "        print(\"The Queue is Empty\")\n",
        "      else:\n",
        "        print(\"Element of Queue From front to Rear\")\n",
        "        for i in range(self.__front, self.__rear+1):\n",
        "          print(self.__elements[i])\n",
        "        #Remove pass and write the logic to display all the queue element(s).\n",
        "\n",
        "      print('------------------------------------------------------------------')\n",
        "                                                  \n",
        "    #You can use the below __str__() to print the elements of the DS object while debugging\n",
        "    def __str__(self):\n",
        "        msg=[]\n",
        "        index=self.__front\n",
        "        while(index<=self.__rear):\n",
        "            msg.append((str)(self.__elements[index]))\n",
        "            index+=1\n",
        "        msg=\" \".join(msg)\n",
        "        msg=\"Queue data(Front to Rear): \"+msg\n",
        "        return msg\n",
        "\n",
        "\n",
        "\n",
        "queue1=Queue(2)\n",
        "queue1.display()\n",
        "\n",
        "#Enqueue all the required element(s).\n",
        "queue1.enqueue(\"Data1\")\n",
        "queue1.enqueue(\"Data2\")\n",
        "queue1.enqueue(\"Data3\")\n",
        "\n",
        "#Display all the elements in the queue.\n",
        "queue1.display()"
      ],
      "execution_count": 8,
      "outputs": [
        {
          "output_type": "stream",
          "text": [
            "------------------------------------------------------------------\n",
            "The Queue is Empty\n",
            "------------------------------------------------------------------\n",
            "Queue is full\n",
            "------------------------------------------------------------------\n",
            "Element of Queue From front to Rear\n",
            "Data1\n",
            "Data2\n",
            "------------------------------------------------------------------\n"
          ],
          "name": "stdout"
        }
      ]
    },
    {
      "cell_type": "markdown",
      "metadata": {
        "id": "Ty58NlCuVW1p",
        "colab_type": "text"
      },
      "source": [
        "### Dequeue()\n",
        "1. Check whether the queue is empty. If it is empty, display appropriate message\n",
        "2. If not,\n",
        "   - Retrieve data at the front of the queue\n",
        "   - Increment front by 1\n",
        "   - Return the retrieved data"
      ]
    },
    {
      "cell_type": "code",
      "metadata": {
        "id": "eIHuDPkNVN3E",
        "colab_type": "code",
        "outputId": "1c20b303-993c-4bd8-f025-b7d4bc9865ba",
        "colab": {
          "base_uri": "https://localhost:8080/",
          "height": 255
        }
      },
      "source": [
        "class Queue:\n",
        "  def __init__(self, max_size):\n",
        "    self.__max_size = max_size\n",
        "    self.__elements = [None]*max_size\n",
        "    self.__front=0\n",
        "    self.__rear=-1\n",
        "\n",
        "  def is_empty(self):\n",
        "    if self.__front>self.__rear:\n",
        "      return True\n",
        "    else:\n",
        "      return  False \n",
        "  \n",
        "  def dequeue(self):\n",
        "    if self.is_empty():\n",
        "      print(\"Queue is Empty\")\n",
        "    else:\n",
        "      data = self.__elements[self.__front]\n",
        "      self.__front+=1 \n",
        "      return data \n",
        "\n",
        "  def is_full(self):\n",
        "    if self.__rear+1==self.__max_size:\n",
        "      return True\n",
        "    else:\n",
        "      return False \n",
        "\n",
        "  def enqueue(self, data):\n",
        "    if self.is_full():\n",
        "      print(\"The Queue is full\")\n",
        "    else:\n",
        "      self.__rear+=1 \n",
        "      self.__elements[self.__rear]=data\n",
        "\n",
        "  def display(self):\n",
        "      print('------------------------------------------------------------------')\n",
        "      if self.is_empty():\n",
        "        print(\"The Queue is Empty\")\n",
        "      else:\n",
        "        print(\"Element of Queue From front to Rear\")\n",
        "        for i in range(self.__front, self.__rear+1):\n",
        "          print(self.__elements[i])\n",
        "      print('------------------------------------------------------------------')\n",
        "\n",
        "\n",
        "queue1=Queue(4)\n",
        "#Enqueue all the required element(s).\n",
        "queue1.enqueue(\"Data1\")\n",
        "queue1.enqueue(\"Data2\")\n",
        "queue1.enqueue(\"Data3\")\n",
        "queue1.enqueue(\"Data4\")\n",
        "queue1.enqueue(\"Data5\")\n",
        "#Display all the elements in the queue.\n",
        "queue1.display()\n",
        "\n",
        "queue1.dequeue()\n",
        "queue1.dequeue()\n",
        "queue1.display()\n",
        "queue1.dequeue()\n",
        "queue1.dequeue()\n",
        "queue1.dequeue()\n"
      ],
      "execution_count": 9,
      "outputs": [
        {
          "output_type": "stream",
          "text": [
            "The Queue is full\n",
            "------------------------------------------------------------------\n",
            "Element of Queue From front to Rear\n",
            "Data1\n",
            "Data2\n",
            "Data3\n",
            "Data4\n",
            "------------------------------------------------------------------\n",
            "------------------------------------------------------------------\n",
            "Element of Queue From front to Rear\n",
            "Data3\n",
            "Data4\n",
            "------------------------------------------------------------------\n",
            "Queue is Empty\n"
          ],
          "name": "stdout"
        }
      ]
    },
    {
      "cell_type": "markdown",
      "metadata": {
        "id": "FnAzDt9UGe58",
        "colab_type": "text"
      },
      "source": [
        "#### Function to insert a new Node after any existing Node\n",
        "insert function(data,data_before):\n",
        "- Create a new node with the given data\n",
        "- If the data_before is None,\n",
        "    1. Make the new node's link refer to head node \n",
        "    2. Call the new node as head node\n",
        "    3. If the new node's link is None, make it the tail node\n",
        "3. Else\n",
        "    1. Find the node with data_before, once found consider it as node_before\n",
        "    2. Make the new node’s link refer to node_before’s link.\n",
        "    3. Make the node_before’s link refer to new node\n",
        "    4. If new node’s link is None, make it the tail node\n",
        "- If node with data_before is not found, display appropriate error message"
      ]
    },
    {
      "cell_type": "code",
      "metadata": {
        "id": "6DygysNvGsE2",
        "colab_type": "code",
        "colab": {}
      },
      "source": [
        "\n"
      ],
      "execution_count": 0,
      "outputs": []
    }
  ]
}