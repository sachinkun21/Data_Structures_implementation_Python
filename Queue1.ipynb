{
  "nbformat": 4,
  "nbformat_minor": 0,
  "metadata": {
    "colab": {
      "name": "Queue1.ipynb",
      "provenance": [],
      "include_colab_link": true
    },
    "kernelspec": {
      "name": "python3",
      "display_name": "Python 3"
    }
  },
  "cells": [
    {
      "cell_type": "markdown",
      "metadata": {
        "id": "view-in-github",
        "colab_type": "text"
      },
      "source": [
        "<a href=\"https://colab.research.google.com/github/sachinkun21/Data_Structures_implementation_Python/blob/master/Queue1.ipynb\" target=\"_parent\"><img src=\"https://colab.research.google.com/assets/colab-badge.svg\" alt=\"Open In Colab\"/></a>"
      ]
    },
    {
      "cell_type": "markdown",
      "metadata": {
        "id": "eF-RhW2TGtEA",
        "colab_type": "text"
      },
      "source": [
        "## Queue:\n",
        "Queue is based on First-In-First-Out (FIFO) mechanism. \n",
        "\n",
        "Operations possible on the queue are:\n",
        "\n",
        "- En-queue or add an element to the end of the queue\n",
        "- De-queue or remove an element from the front of the queue"
      ]
    },
    {
      "cell_type": "code",
      "metadata": {
        "id": "0IwBPZ5KGVwV",
        "colab_type": "code",
        "colab": {}
      },
      "source": [
        "class Queue:\n",
        "\n",
        "  def __init__(self, max_size):\n",
        "    self.__max_size = max_size \n",
        "    self.__elements = [None]*max_size \n",
        "    self.__front = 0\n",
        "    self.__rear = -1 "
      ],
      "execution_count": 0,
      "outputs": []
    },
    {
      "cell_type": "markdown",
      "metadata": {
        "id": "F5r0wVF0H0OQ",
        "colab_type": "text"
      },
      "source": [
        "### Enqueue (data):\n",
        "1. Check whether queue is full. If full, display appropriate message\n",
        "2. If not,\n",
        "   a. increment rear by one\n",
        "   b. Add the element at rear position in the elements array"
      ]
    },
    {
      "cell_type": "code",
      "metadata": {
        "id": "BwAqiFg1H04W",
        "colab_type": "code",
        "colab": {
          "base_uri": "https://localhost:8080/",
          "height": 85
        },
        "outputId": "2284200a-9c10-41a0-b7e5-b3d6c6f03e09"
      },
      "source": [
        "class Queue:\n",
        "    def __init__(self,max_size):\n",
        "        self.__max_size=max_size\n",
        "        self.__elements=[None]*max_size\n",
        "        self.__rear=-1\n",
        "        self.__front=0\n",
        "        \n",
        "    def get_max_size(self):\n",
        "        return self.__max_size\n",
        "    \n",
        "    def is_full(self):\n",
        "        if self.__rear+1==self.__max_size:\n",
        "          return True\n",
        "        else:\n",
        "          return False\n",
        "        #Remove pass and write the logic to check whether Queue is full. If the queue is full, return true else return false.\n",
        "    \n",
        "    def enqueue(self,data):\n",
        "        if self.is_full():\n",
        "          print(\"Queue is full\")\n",
        "        else:\n",
        "          self.__rear+=1\n",
        "          self.__elements[self.__rear]=data\n",
        "\n",
        "        #Remove pass and write the logic to enqueue an element. Enqueue should be done only if queue is not full. Otherwise display appropriate message.\n",
        "    \n",
        "    def display(self):\n",
        "        print(\"Element of Queue From front to Rear\")\n",
        "        for i in range(self.__front, self.__rear+1):\n",
        "          print(self.__elements[i])\n",
        "        #Remove pass and write the logic to display all the queue element(s).\n",
        "                                                  \n",
        "    #You can use the below __str__() to print the elements of the DS object while debugging\n",
        "    def __str__(self):\n",
        "        msg=[]\n",
        "        index=self.__front\n",
        "        while(index<=self.__rear):\n",
        "            msg.append((str)(self.__elements[index]))\n",
        "            index+=1\n",
        "        msg=\" \".join(msg)\n",
        "        msg=\"Queue data(Front to Rear): \"+msg\n",
        "        return msg\n",
        "\n",
        "\n",
        "\n",
        "queue1=Queue(2)\n",
        "#Enqueue all the required element(s).\n",
        "queue1.enqueue(\"Data1\")\n",
        "queue1.enqueue(\"Data2\")\n",
        "queue1.enqueue(\"Data3\")\n",
        "#Display all the elements in the queue.\n",
        "queue1.display()\n",
        "                             "
      ],
      "execution_count": 11,
      "outputs": [
        {
          "output_type": "stream",
          "text": [
            "Queue is full\n",
            "Element of Queue From front to Rear\n",
            "Data1\n",
            "Data2\n"
          ],
          "name": "stdout"
        }
      ]
    },
    {
      "cell_type": "markdown",
      "metadata": {
        "id": "FnAzDt9UGe58",
        "colab_type": "text"
      },
      "source": [
        "#### Function to insert a new Node after any existing Node\n",
        "insert function(data,data_before):\n",
        "- Create a new node with the given data\n",
        "- If the data_before is None,\n",
        "    1. Make the new node's link refer to head node \n",
        "    2. Call the new node as head node\n",
        "    3. If the new node's link is None, make it the tail node\n",
        "3. Else\n",
        "    1. Find the node with data_before, once found consider it as node_before\n",
        "    2. Make the new node’s link refer to node_before’s link.\n",
        "    3. Make the node_before’s link refer to new node\n",
        "    4. If new node’s link is None, make it the tail node\n",
        "- If node with data_before is not found, display appropriate error message"
      ]
    },
    {
      "cell_type": "code",
      "metadata": {
        "id": "6DygysNvGsE2",
        "colab_type": "code",
        "colab": {}
      },
      "source": [
        ""
      ],
      "execution_count": 0,
      "outputs": []
    }
  ]
}