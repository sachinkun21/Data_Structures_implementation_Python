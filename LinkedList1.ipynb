{
  "nbformat": 4,
  "nbformat_minor": 0,
  "metadata": {
    "colab": {
      "name": "LinkedList1.ipynb",
      "provenance": [],
      "collapsed_sections": [],
      "include_colab_link": true
    },
    "kernelspec": {
      "name": "python3",
      "display_name": "Python 3"
    }
  },
  "cells": [
    {
      "cell_type": "markdown",
      "metadata": {
        "id": "view-in-github",
        "colab_type": "text"
      },
      "source": [
        "<a href=\"https://colab.research.google.com/github/sachinkun21/Data_Structures_implementation_Python/blob/master/LinkedList1.ipynb\" target=\"_parent\"><img src=\"https://colab.research.google.com/assets/colab-badge.svg\" alt=\"Open In Colab\"/></a>"
      ]
    },
    {
      "cell_type": "markdown",
      "metadata": {
        "id": "zI-rtlKDL48V",
        "colab_type": "text"
      },
      "source": [
        "## Introduction to Linked List:\n",
        "#### Why Linked List?\n",
        "Arrays can be used to store linear data of similar types, but arrays have the following limitations.\n",
        "1. The size of the arrays is fixed: So we must know the upper limit on the number of elements in advance. Also, generally, the allocated memory is equal to the upper limit irrespective of the usage.\n",
        "2. Inserting a new element in an array of elements is expensive because the room has to be created for the new elements and to create room existing elements have to be shifted.\n",
        "\n"
      ]
    },
    {
      "cell_type": "markdown",
      "metadata": {
        "id": "hxbBzJmlW-Nn",
        "colab_type": "text"
      },
      "source": [
        "### Linked List implementation using Python and OOPS:\n",
        "#### Node:"
      ]
    },
    {
      "cell_type": "code",
      "metadata": {
        "id": "NI0mFa4NJ8GV",
        "colab_type": "code",
        "outputId": "e31a1cf9-9187-48f3-dd46-dae1ebeccf3d",
        "colab": {
          "base_uri": "https://localhost:8080/",
          "height": 90
        }
      },
      "source": [
        "class Node:\n",
        "  def __init__(self,data):\n",
        "    self.__data = data\n",
        "    self.__next = None\n",
        "  \n",
        "  def get_data(self):\n",
        "    return self.__data\n",
        "\n",
        "  def set_data(self, data):\n",
        "    self.__data = data\n",
        "\n",
        "  def get_next(self):\n",
        "    return self.__next\n",
        "\n",
        "  def set_next(self, next_node):\n",
        "    self.__next=next_node\n",
        "\n",
        "  def __str__(self):\n",
        "    return (\"Data stored in this Node is: \"+ self.__data)\n",
        "\n",
        "\n",
        "node1 = Node(\"myData\")\n",
        "print(node1.get_data())\n",
        "print(node1.get_next())\n",
        "\n",
        "node2 = Node(\"moreData\")\n",
        "print(node2.get_data())\n",
        "\n",
        "node1.set_next(node2)\n",
        "print(node1.get_next())"
      ],
      "execution_count": 0,
      "outputs": [
        {
          "output_type": "stream",
          "text": [
            "myData\n",
            "None\n",
            "moreData\n",
            "Data stored in this Node is: moreData\n"
          ],
          "name": "stdout"
        }
      ]
    },
    {
      "cell_type": "markdown",
      "metadata": {
        "id": "aVix1lg-L35H",
        "colab_type": "text"
      },
      "source": [
        "#### LinkedList:"
      ]
    },
    {
      "cell_type": "code",
      "metadata": {
        "id": "L5hA4CYwUJKP",
        "colab_type": "code",
        "outputId": "f4a82a30-bb11-4d84-f347-0fefbd698073",
        "colab": {
          "base_uri": "https://localhost:8080/",
          "height": 54
        }
      },
      "source": [
        "class LinkedList:\n",
        "  def __init__(self):\n",
        "    self.__head=None\n",
        "    self.__tail=None \n",
        "  \n",
        "  def get_head(self):\n",
        "    return self.__head\n",
        "  \n",
        "  def set_head(self,node):\n",
        "    self.__head=node \n",
        "  \n",
        "  def get_tail(self):\n",
        "    return self.__tail\n",
        "\n",
        "  def set_tail(self,node):\n",
        "    self.__tail = node \n",
        "linkedlist1 = LinkedList()\n",
        "print(linkedlist1.get_head())\n",
        "print(linkedlist1.get_tail())"
      ],
      "execution_count": 0,
      "outputs": [
        {
          "output_type": "stream",
          "text": [
            "None\n",
            "None\n"
          ],
          "name": "stdout"
        }
      ]
    },
    {
      "cell_type": "markdown",
      "metadata": {
        "id": "fXZ_eCm8WIWC",
        "colab_type": "text"
      },
      "source": [
        "#### Add operation in Linked list:\n",
        "add(data) function:\n",
        "1. Create a new node with the data\n",
        "2. If the linked list is empty (head node is not referring to any other node), \n",
        "   make the head node and the tail node refer to the new node\n",
        "3. Otherwise,\n",
        "   a. Make the tail node’s link refer to new node\n",
        "   b. Call the new node as tail node"
      ]
    },
    {
      "cell_type": "code",
      "metadata": {
        "id": "Z8vDXyl7WWwh",
        "colab_type": "code",
        "outputId": "9b413a22-cfb7-4526-d118-23d8dd59a955",
        "colab": {
          "base_uri": "https://localhost:8080/",
          "height": 181
        }
      },
      "source": [
        "class LinkedList:\n",
        "  def __init__(self):\n",
        "    self.__head=None\n",
        "    self.__tail=None \n",
        "  \n",
        "  def get_head(self):\n",
        "    return self.__head\n",
        "  \n",
        "  def set_head(self,node):\n",
        "    self.__head=node \n",
        "  \n",
        "  def get_tail(self):\n",
        "    return self.__tail\n",
        "\n",
        "  def set_tail(self,node):\n",
        "    self.__tail = node \n",
        "\n",
        "  def add(self,new_node):\n",
        "    if self.__head is None:\n",
        "      self.__head=self.__tail=new_node \n",
        "    else:\n",
        "      self.__tail.set_next(new_node)\n",
        "      self.__tail=new_node \n",
        "\n",
        "  def display(self):\n",
        "    if self.__head is None:\n",
        "      print(\"LinkedList is Empty\")\n",
        "    else:\n",
        "      temp = self.__head \n",
        "      print(\"Printing elements of list:\")\n",
        "      while temp is not None:\n",
        "        print(temp.get_data())\n",
        "        temp = temp.get_next()\n",
        "\n",
        "\n",
        "\n",
        "linkedlist1 = LinkedList()\n",
        "print(linkedlist1.get_head())\n",
        "print(linkedlist1.get_tail())\n",
        "\n",
        "# Adding a new Node in linked list\n",
        "node1=Node('MyData')\n",
        "linkedlist1.add(node1)\n",
        "# printing head and tail of Node again\n",
        "print(linkedlist1.get_head())\n",
        "print(linkedlist1.get_tail())\n",
        "\n",
        "# adding one more element:\n",
        "node2=Node('moreData')\n",
        "linkedlist1.add(node2)\n",
        "\n",
        "node3=Node('Node 3 data')\n",
        "linkedlist1.add(node3)\n",
        "print(linkedlist1.get_head().get_next().get_next().get_next())\n",
        "\n",
        "linkedlist1.display()"
      ],
      "execution_count": 0,
      "outputs": [
        {
          "output_type": "stream",
          "text": [
            "None\n",
            "None\n",
            "<__main__.Node object at 0x7f269adc5320>\n",
            "<__main__.Node object at 0x7f269adc5320>\n",
            "None\n",
            "Printing elements of list:\n",
            "MyData\n",
            "moreData\n",
            "Node 3 data\n"
          ],
          "name": "stdout"
        }
      ]
    },
    {
      "cell_type": "markdown",
      "metadata": {
        "id": "aBd7UA6Cb5sq",
        "colab_type": "text"
      },
      "source": [
        "#### Question: How will you access/print node2's data using linkedlist1 object?\n"
      ]
    },
    {
      "cell_type": "code",
      "metadata": {
        "id": "BTf4pZ2NcGHG",
        "colab_type": "code",
        "outputId": "b82c5aa9-46fd-4ef4-e223-9446dc6ebba8",
        "colab": {
          "base_uri": "https://localhost:8080/",
          "height": 35
        }
      },
      "source": [
        "print(linkedlist1.get_head().get_next().get_data())"
      ],
      "execution_count": 0,
      "outputs": [
        {
          "output_type": "stream",
          "text": [
            "moreData\n"
          ],
          "name": "stdout"
        }
      ]
    },
    {
      "cell_type": "markdown",
      "metadata": {
        "id": "288VfKGFcFS_",
        "colab_type": "text"
      },
      "source": [
        "Similarly you can print data of other Nodes as well using get_next.\n",
        "\n",
        "But what if the list contains a lot of Elements?\n",
        "\n",
        "Let's write a function to Display all the Nodes in Linked List"
      ]
    },
    {
      "cell_type": "markdown",
      "metadata": {
        "id": "rCs-jW9RV-Qn",
        "colab_type": "text"
      },
      "source": [
        "#### Display operation in LinkedList:\n",
        "- Call the head node as temp\n",
        "- While temp is not None,\n",
        "   1.  Display temp’s data\n",
        "   2. Make the next node as temp"
      ]
    },
    {
      "cell_type": "code",
      "metadata": {
        "id": "mdmr_WkFVkcs",
        "colab_type": "code",
        "outputId": "f1565930-ba5f-48f9-ab7f-be567263a3ee",
        "colab": {
          "base_uri": "https://localhost:8080/",
          "height": 90
        }
      },
      "source": [
        "class LinkedList:\n",
        "  # Constructor of linkedlist\n",
        "  def __init__(self):\n",
        "    self.__head=None\n",
        "    self.__tail=None \n",
        "  \n",
        "  # Getter Setter for attributes\n",
        "  def get_head(self):\n",
        "    return self.__head\n",
        "  \n",
        "  def set_head(self,node):\n",
        "    self.__head=node \n",
        "  \n",
        "  def get_tail(self):\n",
        "    return self.__tail\n",
        "\n",
        "  def set_tail(self,node):\n",
        "    self.__tail = node \n",
        "\n",
        "  # function to add a new node in last position\n",
        "  def add(self,new_node):\n",
        "    if self.__head is None:\n",
        "      self.__head = self.__tail = new_node\n",
        "    else:\n",
        "      self.__tail.set_next(new_node)\n",
        "      self.__tail=new_node \n",
        "  \n",
        "  # Function to display the all the elements in Linked list \n",
        "  def display(self):\n",
        "    if self.__head is None:\n",
        "      print(\"LinkedList is Empty\")\n",
        "    else:\n",
        "      temp = self.__head\n",
        "      \n",
        "      print(\"Printing elements of list:\")\n",
        "      while temp is not None:\n",
        "        print(temp.get_data())\n",
        "        temp = temp.get_next()\n",
        " \n",
        "\n",
        "\n",
        "linkedlist1 = LinkedList()\n",
        "\n",
        "\n",
        "# Adding a new Node in linked list\n",
        "node1=Node('Node1 Data')\n",
        "linkedlist1.add(node1)\n",
        "\n",
        "# adding one more element:\n",
        "node2=Node('Node2 Data')\n",
        "linkedlist1.add(node2)\n",
        "\n",
        "# adding one more element:\n",
        "node3=Node('Node3 Data')\n",
        "linkedlist1.add(node3)\n",
        "\n",
        "#Calling the display function\n",
        "linkedlist1.display()"
      ],
      "execution_count": 0,
      "outputs": [
        {
          "output_type": "stream",
          "text": [
            "Printing elements of list:\n",
            "Node1 Data\n",
            "Node2 Data\n",
            "Node3 Data\n"
          ],
          "name": "stdout"
        }
      ]
    },
    {
      "cell_type": "markdown",
      "metadata": {
        "id": "jz2qJiXqkx0G",
        "colab_type": "text"
      },
      "source": [
        "#### Searching the position/index of a node containing some data in list:\n",
        "\n"
      ]
    },
    {
      "cell_type": "code",
      "metadata": {
        "id": "CsMLZ9Trek-2",
        "colab_type": "code",
        "outputId": "6e3a816a-b333-4394-b4bc-42d3b22a0380",
        "colab": {
          "base_uri": "https://localhost:8080/",
          "height": 35
        }
      },
      "source": [
        "class LinkedList:\n",
        "  # Constructor of linkedlist\n",
        "  def __init__(self):\n",
        "    self.__head=None\n",
        "    self.__tail=None \n",
        "  \n",
        "  # Getter Setter for attributes\n",
        "  def get_head(self):\n",
        "    return self.__head\n",
        "  \n",
        "  def set_head(self,node):\n",
        "    self.__head=node \n",
        "  \n",
        "  def get_tail(self):\n",
        "    return self.__tail\n",
        "\n",
        "  def set_tail(self,node):\n",
        "    self.__tail = node \n",
        "\n",
        "  # function to add a new node in last position\n",
        "  def add(self,new_node):\n",
        "    if self.__head is None:\n",
        "      self.__head = self.__tail = new_node\n",
        "    else:\n",
        "      self.__tail.set_next(new_node)\n",
        "      self.__tail=new_node \n",
        "  \n",
        "  # Function to display the all the elements in Linked list \n",
        "  def display(self):\n",
        "    if self.__head is None:\n",
        "      print(\"LinkedList is Empty\")\n",
        "    else:\n",
        "      temp = self.__head\n",
        "      \n",
        "      print(\"Printing elements of list:\")\n",
        "      while temp is not None:\n",
        "        print(temp.get_data())\n",
        "        temp = temp.get_next()\n",
        "  def find_index(self , data):\n",
        "    temp = self.__head\n",
        "    count=0\n",
        "    \n",
        "    while temp is not None:\n",
        "      if temp.get_data()==data:\n",
        "        return data+\" is present at index: \" +str(count)\n",
        "      else:\n",
        "        count+=1 \n",
        "      temp = temp.get_next()\n",
        "    \n",
        "    return data + \"is Not present in Linked List\"\n",
        "    \n",
        "      \n",
        "\n",
        "\n",
        "linkedlist1 = LinkedList()\n",
        "\n",
        "\n",
        "# Adding a new Node in linked list\n",
        "node1=Node('Node1 Data')\n",
        "linkedlist1.add(node1)\n",
        "\n",
        "# adding one more element:\n",
        "node2=Node('Node2 Data')\n",
        "linkedlist1.add(node2)\n",
        "\n",
        "# adding one more element:\n",
        "node3=Node('Node3 Data')\n",
        "linkedlist1.add(node3)\n",
        "\n",
        "#Calling the display function\n",
        "linkedlist1.find_index(\"Node3 Data\")\n"
      ],
      "execution_count": 0,
      "outputs": [
        {
          "output_type": "execute_result",
          "data": {
            "text/plain": [
              "'Node3 Data is present at index: 2'"
            ]
          },
          "metadata": {
            "tags": []
          },
          "execution_count": 32
        }
      ]
    },
    {
      "cell_type": "markdown",
      "metadata": {
        "id": "4TTLActFsHeg",
        "colab_type": "text"
      },
      "source": [
        "\n",
        "#### FindNode:"
      ]
    },
    {
      "cell_type": "code",
      "metadata": {
        "id": "CSfOGlNMrN6e",
        "colab_type": "code",
        "outputId": "e113b47a-278c-4788-d831-31a112a33f70",
        "colab": {
          "base_uri": "https://localhost:8080/",
          "height": 35
        }
      },
      "source": [
        "class LinkedList:\n",
        "  # Constructor of linkedlist\n",
        "  def __init__(self):\n",
        "    self.__head=None\n",
        "    self.__tail=None \n",
        "  \n",
        "  # Getter Setter for attributes\n",
        "  def get_head(self):\n",
        "    return self.__head\n",
        "  \n",
        "  def set_head(self,node):\n",
        "    self.__head=node \n",
        "  \n",
        "  def get_tail(self):\n",
        "    return self.__tail\n",
        "\n",
        "  def set_tail(self,node):\n",
        "    self.__tail = node \n",
        "\n",
        "  # function to add a new node in last position\n",
        "  def add(self,new_node):\n",
        "    if self.__head is None:\n",
        "      self.__head = self.__tail = new_node\n",
        "    else:\n",
        "      self.__tail.set_next(new_node)\n",
        "      self.__tail=new_node \n",
        "  \n",
        "  # Function to display the all the elements in Linked list \n",
        "  def display(self):\n",
        "    if self.__head is None:\n",
        "      print(\"LinkedList is Empty\")\n",
        "    else:\n",
        "      temp = self.__head\n",
        "      \n",
        "      print(\"Printing elements of list:\")\n",
        "      while temp is not None:\n",
        "        print(temp.get_data())\n",
        "        temp = temp.get_next()\n",
        "  def find_index(self , data):\n",
        "    temp = self.__head\n",
        "    count=0\n",
        "    \n",
        "    while temp is not None:\n",
        "      if temp.get_data()==data:\n",
        "        return data+\" is present at index: \" +str(count)\n",
        "      else:\n",
        "        count+=1 \n",
        "      temp = temp.get_next()\n",
        "    \n",
        "    return data + \"is Not present in Linked List\"\n",
        "\n",
        "  def find_node(self, data):\n",
        "    temp = self.__head\n",
        "    while temp is not None:\n",
        "      if temp.get_data()==data:\n",
        "        return temp\n",
        "      temp = temp.get_next()\n",
        "\n",
        "    return None     \n",
        "\n",
        "\n",
        "linkedlist1 = LinkedList()\n",
        "\n",
        "\n",
        "# Adding a new Node in linked list\n",
        "node1=Node('Node1 Data')\n",
        "linkedlist1.add(node1)\n",
        "\n",
        "# adding one more element:\n",
        "node2=Node('Node2 Data')\n",
        "linkedlist1.add(node2)\n",
        "\n",
        "# adding one more element:\n",
        "node3=Node('Node3 Data')\n",
        "linkedlist1.add(node3)\n",
        "\n",
        "#Calling the display function\n",
        "print(linkedlist1.find_node(\"Node3 Data\"))"
      ],
      "execution_count": 0,
      "outputs": [
        {
          "output_type": "stream",
          "text": [
            "Data stored in this Node is: Node3 Data\n"
          ],
          "name": "stdout"
        }
      ]
    },
    {
      "cell_type": "code",
      "metadata": {
        "id": "hwMs_O7lslXD",
        "colab_type": "code",
        "outputId": "be37869c-6ac4-43ba-99d2-523b8c2d1b9f",
        "colab": {
          "base_uri": "https://localhost:8080/",
          "height": 35
        }
      },
      "source": [
        "my_var = 5\n",
        "my_var_name = [ k for k,v in locals().items() if v == my_var][0]\n",
        "my_var_name"
      ],
      "execution_count": 0,
      "outputs": [
        {
          "output_type": "execute_result",
          "data": {
            "text/plain": [
              "'my_var'"
            ]
          },
          "metadata": {
            "tags": []
          },
          "execution_count": 39
        }
      ]
    },
    {
      "cell_type": "code",
      "metadata": {
        "id": "cramH8L-y4fp",
        "colab_type": "code",
        "colab": {}
      },
      "source": [
        "class Node:\n",
        "  def __init__(self,data):\n",
        "    self.__data = data\n",
        "    self.__next = None\n",
        "  \n",
        "    \n",
        "  def get_data(self):\n",
        "    return self.__data\n",
        "\n",
        "  def set_data(self, data):\n",
        "    self.__data = data\n",
        "\n",
        "  def get_next(self):\n",
        "    return self.__next\n",
        "\n",
        "  def set_next(self, next_node):\n",
        "    self.__next=next_node\n",
        "  \n"
      ],
      "execution_count": 0,
      "outputs": []
    },
    {
      "cell_type": "code",
      "metadata": {
        "id": "4lL75XUMAkKE",
        "colab_type": "code",
        "outputId": "c1a8d45a-0fb7-42df-e27d-cbace85d4db1",
        "colab": {
          "base_uri": "https://localhost:8080/",
          "height": 72
        }
      },
      "source": [
        "class LinkedList:\n",
        "  # Constructor of linkedlist\n",
        "  def __init__(self):\n",
        "    self.__head=None\n",
        "    self.__tail=None \n",
        "  \n",
        "  # Getter Setter for attributes\n",
        "  def get_head(self):\n",
        "    return self.__head\n",
        "  \n",
        "  def set_head(self,node):\n",
        "    self.__head=node \n",
        "  \n",
        "  def get_tail(self):\n",
        "    return self.__tail\n",
        "\n",
        "  def set_tail(self,node):\n",
        "    self.__tail = node \n",
        "\n",
        "  def add(self,new_node):\n",
        "    if self.__head is None:\n",
        "      self.__head = self.__tail = new_node\n",
        "    else:\n",
        "      self.__tail.set_next(new_node)\n",
        "      self.__tail = new_node \n",
        "\n",
        "  def display(self):\n",
        "    temp = self.__head\n",
        "    if temp is None:\n",
        "      print(\"Empty list\")\n",
        "    else:\n",
        "      while temp is not None:\n",
        "        print(temp.get_data())\n",
        "        temp = temp.get_next()\n",
        "\n",
        "\n",
        "  def find_node(self, data):\n",
        "    temp = self.__head\n",
        "    while temp is not None:\n",
        "      if temp.get_data()==data:\n",
        "        return temp\n",
        "      temp=temp.get_next()\n",
        "\n",
        "    print(\"Node Not Present\")\n",
        "    return None\n",
        "\n",
        "  def \n",
        "linkedlist1 = LinkedList()\n",
        "\n",
        "# Adding a new Node in linked list\n",
        "node1=Node('Node1 Data')\n",
        "linkedlist1.add(node1)\n",
        "\n",
        "# adding one more element:\n",
        "node2=Node('Node2 Data')\n",
        "linkedlist1.add(node2)\n",
        "\n",
        "linkedlist1.display()\n",
        "linkedlist1.find_node('Node Data')\n"
      ],
      "execution_count": 0,
      "outputs": [
        {
          "output_type": "stream",
          "text": [
            "Node1 Data\n",
            "Node2 Data\n",
            "Node Not Present\n"
          ],
          "name": "stdout"
        }
      ]
    },
    {
      "cell_type": "markdown",
      "metadata": {
        "id": "YaueXyb2Kwp8",
        "colab_type": "text"
      },
      "source": [
        "#### Function to insert a new Node after any existing Node\n",
        "insert function(data,data_before):\n",
        "- Create a new node with the given data\n",
        "- If the data_before is None,\n",
        "    1. Make the new node's link refer to head node \n",
        "    2. Call the new node as head node\n",
        "    3. If the new node's link is None, make it the tail node\n",
        "3. Else\n",
        "    1. Find the node with data_before, once found consider it as node_before\n",
        "    2. Make the new node’s link refer to node_before’s link.\n",
        "    3. Make the node_before’s link refer to new node\n",
        "    4. If new node’s link is None, make it the tail node\n",
        "- If node with data_before is not found, display appropriate error message"
      ]
    },
    {
      "cell_type": "code",
      "metadata": {
        "id": "PztshrfDBQPg",
        "colab_type": "code",
        "outputId": "f4dbd21e-fb7d-4be6-d0e8-3e075fe4eb6e",
        "colab": {
          "base_uri": "https://localhost:8080/",
          "height": 199
        }
      },
      "source": [
        "class Node:\n",
        "  def __init__(self,data):\n",
        "    self.__data = data\n",
        "    self.__next = None\n",
        "  \n",
        "  def get_data(self):\n",
        "    return self.__data\n",
        "\n",
        "  def set_data(self, data):\n",
        "    self.__data = data\n",
        "\n",
        "  def get_next(self):\n",
        "    return self.__next\n",
        "\n",
        "  def set_next(self, next_node):\n",
        "    self.__next=next_node\n",
        "\n",
        "  def __str__(self):\n",
        "    return (\"Data stored in this Node is: \"+ self.__data)\n",
        "\n",
        "\n",
        "class LinkedList:\n",
        "  # Constructor of linkedlist\n",
        "  def __init__(self):\n",
        "    self.__head=None\n",
        "    self.__tail=None \n",
        "  \n",
        "  # Getter Setter for attributes\n",
        "  def get_head(self):\n",
        "    return self.__head\n",
        "  \n",
        "  def set_head(self,node):\n",
        "    self.__head=node \n",
        "  \n",
        "  def get_tail(self):\n",
        "    return self.__tail\n",
        "\n",
        "  def set_tail(self,node):\n",
        "    self.__tail = node \n",
        "\n",
        "  # function to add a new node in last position\n",
        "  def add(self,new_node):\n",
        "    if self.__head is None:\n",
        "      self.__head = self.__tail = new_node\n",
        "    else:\n",
        "      self.__tail.set_next(new_node)\n",
        "      self.__tail=new_node \n",
        "  \n",
        "  # Function to display the all the elements in Linked list \n",
        "  def display(self):\n",
        "    if self.__head is None:\n",
        "      print(\"LinkedList is Empty\")\n",
        "    else:\n",
        "      temp = self.__head\n",
        "      \n",
        "      print(\"Printing elements of list:\")\n",
        "      while temp is not None:\n",
        "        print(temp.get_data())\n",
        "        temp = temp.get_next()\n",
        "  def find_index(self , data):\n",
        "    temp = self.__head\n",
        "    count=0\n",
        "    \n",
        "    while temp is not None:\n",
        "      if temp.get_data()==data:\n",
        "        return data+\" is present at index: \" +str(count)\n",
        "      else:\n",
        "        count+=1 \n",
        "      temp = temp.get_next()\n",
        "    \n",
        "    return data + \"is Not present in Linked List\"\n",
        "\n",
        "  def find_node(self, data):\n",
        "    temp = self.__head\n",
        "    while temp is not None:\n",
        "      if temp.get_data()==data:\n",
        "        return temp\n",
        "      temp = temp.get_next()\n",
        "\n",
        "    return None \n",
        "\n",
        "\n",
        "  def insert(self, data, data_before=None):\n",
        "    new_node = Node(data)\n",
        "\n",
        "    if data_before is None:\n",
        "      new_node.set_next(self.__head)\n",
        "      self.__head=new_node \n",
        "      if new_node.get_next() is None:\n",
        "        self.__tail = new_node \n",
        "    else:\n",
        "      node_before = self.find_node(data_before)\n",
        "      if node_before is not None:\n",
        "        new_node.set_next(node_before.get_next())\n",
        "        node_before.set_next(new_node)\n",
        "        if new_node.get_next() is None:\n",
        "          self.__tail = new_node \n",
        "        print(new_node.get_data()+\" inserted after \"+node_before.get_data())\n",
        "      else:\n",
        "        print(data_before, \" not found in LinkedList\")\n",
        "\n",
        "\n",
        "\n",
        "linkedlist1 = LinkedList()\n",
        "\n",
        "\n",
        "# Adding a new Node in linked list\n",
        "node1=Node('Node1 Data')\n",
        "linkedlist1.add(node1)\n",
        "\n",
        "# adding one more element:\n",
        "node2=Node('Node2 Data')\n",
        "linkedlist1.add(node2)\n",
        "\n",
        "# adding one more element:\n",
        "node3=Node('Node3 Data')\n",
        "linkedlist1.add(node3)\n",
        "\n",
        "# inserting Data in Linked List\n",
        "# at Head\n",
        "linkedlist1.insert('New Head Node')\n",
        "\n",
        "# in Between\n",
        "linkedlist1.insert('One More Node', 'Node2 Data')\n",
        "\n",
        "# at tail\n",
        "linkedlist1.insert('New Tail Node', 'Node3 Data')\n",
        "\n",
        "print(\"\")\n",
        "#Calling the display function\n",
        "linkedlist1.display()\n"
      ],
      "execution_count": 0,
      "outputs": [
        {
          "output_type": "stream",
          "text": [
            "One More Node inserted after Node2 Data\n",
            "New Tail Node inserted after Node3 Data\n",
            "\n",
            "Printing elements of list:\n",
            "New Head Node\n",
            "Node1 Data\n",
            "Node2 Data\n",
            "One More Node\n",
            "Node3 Data\n",
            "New Tail Node\n"
          ],
          "name": "stdout"
        }
      ]
    },
    {
      "cell_type": "markdown",
      "metadata": {
        "id": "vvaB43KXTZZP",
        "colab_type": "text"
      },
      "source": [
        "#### Deleting Node Containing specified data from\n",
        "function delete(data):\n",
        "- Find the node with the given data. If found,\n",
        "   1. If the node to be deleted is head node, make the next node as head node\n",
        "      - If it is also the tail node, make the tail node as None\n",
        "   2. Otherwise,\n",
        "      - Traverse till the node before the node to be deleted, call it temp\n",
        "      - Make temp’s link refer to node’s link.\n",
        "      - If the node to be deleted is the tail node, call the temp as tail node\n",
        "      - Make the node's link as None\n",
        "- If the node to be deleted is not found, display appropriate error message"
      ]
    },
    {
      "cell_type": "code",
      "metadata": {
        "id": "xXMToPV4NdAD",
        "colab_type": "code",
        "colab": {}
      },
      "source": [
        ""
      ],
      "execution_count": 0,
      "outputs": []
    }
  ]
}