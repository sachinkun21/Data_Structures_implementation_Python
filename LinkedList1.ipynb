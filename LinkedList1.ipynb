{
  "nbformat": 4,
  "nbformat_minor": 0,
  "metadata": {
    "colab": {
      "name": "LinkedList1.ipynb",
      "provenance": [],
      "collapsed_sections": [],
      "include_colab_link": true
    },
    "kernelspec": {
      "name": "python3",
      "display_name": "Python 3"
    }
  },
  "cells": [
    {
      "cell_type": "markdown",
      "metadata": {
        "id": "view-in-github",
        "colab_type": "text"
      },
      "source": [
        "<a href=\"https://colab.research.google.com/github/sachinkun21/Data_Structures_implementation_Python/blob/master/LinkedList1.ipynb\" target=\"_parent\"><img src=\"https://colab.research.google.com/assets/colab-badge.svg\" alt=\"Open In Colab\"/></a>"
      ]
    },
    {
      "cell_type": "markdown",
      "metadata": {
        "id": "zI-rtlKDL48V",
        "colab_type": "text"
      },
      "source": [
        "## Introduction to Linked List:\n",
        "![image.png](data:image/png;base64,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)\n"
      ]
    },
    {
      "cell_type": "markdown",
      "metadata": {
        "id": "1bfRnHZjLlLm",
        "colab_type": "text"
      },
      "source": [
        "#### Each node in a list consists of at least two parts:\n",
        "1. Data\n",
        "2. Pointer (Or Reference) to the next node"
      ]
    },
    {
      "cell_type": "markdown",
      "metadata": {
        "id": "1Spaish9FNCR",
        "colab_type": "text"
      },
      "source": [
        "\n",
        "#### Why Linked List?\n",
        "Arrays can be used to store linear data of similar types, but arrays have the following limitations.\n",
        "1. The size of the arrays is fixed: So we must know the upper limit on the number of elements in advance. Also, generally, the allocated memory is equal to the upper limit irrespective of the usage.\n",
        "2. Inserting a new element in an array of elements is expensive because the room has to be created for the new elements and to create room existing elements have to be shifted.\n",
        "\n"
      ]
    },
    {
      "cell_type": "markdown",
      "metadata": {
        "id": "hxbBzJmlW-Nn",
        "colab_type": "text"
      },
      "source": [
        "### Linked List implementation using Python and OOPS:\n",
        "#### Node:"
      ]
    },
    {
      "cell_type": "code",
      "metadata": {
        "id": "NI0mFa4NJ8GV",
        "colab_type": "code",
        "outputId": "e31a1cf9-9187-48f3-dd46-dae1ebeccf3d",
        "colab": {
          "base_uri": "https://localhost:8080/",
          "height": 90
        }
      },
      "source": [
        "class Node:\n",
        "  def __init__(self,data):\n",
        "    self.__data = data\n",
        "    self.__next = None\n",
        "  \n",
        "  def get_data(self):\n",
        "    return self.__data\n",
        "\n",
        "  def set_data(self, data):\n",
        "    self.__data = data\n",
        "\n",
        "  def get_next(self):\n",
        "    return self.__next\n",
        "\n",
        "  def set_next(self, next_node):\n",
        "    self.__next=next_node\n",
        "\n",
        "  def __str__(self):\n",
        "    return (\"Data stored in this Node is: \"+ self.__data)\n",
        "\n",
        "\n",
        "node1 = Node(\"myData\")\n",
        "print(node1.get_data())\n",
        "print(node1.get_next())\n",
        "\n",
        "node2 = Node(\"moreData\")\n",
        "print(node2.get_data())\n",
        "\n",
        "node1.set_next(node2)\n",
        "print(node1.get_next())"
      ],
      "execution_count": 0,
      "outputs": [
        {
          "output_type": "stream",
          "text": [
            "myData\n",
            "None\n",
            "moreData\n",
            "Data stored in this Node is: moreData\n"
          ],
          "name": "stdout"
        }
      ]
    },
    {
      "cell_type": "markdown",
      "metadata": {
        "id": "aVix1lg-L35H",
        "colab_type": "text"
      },
      "source": [
        "#### LinkedList:"
      ]
    },
    {
      "cell_type": "code",
      "metadata": {
        "id": "L5hA4CYwUJKP",
        "colab_type": "code",
        "outputId": "f4a82a30-bb11-4d84-f347-0fefbd698073",
        "colab": {
          "base_uri": "https://localhost:8080/",
          "height": 54
        }
      },
      "source": [
        "class LinkedList:\n",
        "  def __init__(self):\n",
        "    self.__head=None\n",
        "    self.__tail=None \n",
        "  \n",
        "  def get_head(self):\n",
        "    return self.__head\n",
        "  \n",
        "  def set_head(self,node):\n",
        "    self.__head=node \n",
        "  \n",
        "  def get_tail(self):\n",
        "    return self.__tail\n",
        "\n",
        "  def set_tail(self,node):\n",
        "    self.__tail = node \n",
        "linkedlist1 = LinkedList()\n",
        "print(linkedlist1.get_head())\n",
        "print(linkedlist1.get_tail())"
      ],
      "execution_count": 0,
      "outputs": [
        {
          "output_type": "stream",
          "text": [
            "None\n",
            "None\n"
          ],
          "name": "stdout"
        }
      ]
    },
    {
      "cell_type": "markdown",
      "metadata": {
        "id": "fXZ_eCm8WIWC",
        "colab_type": "text"
      },
      "source": [
        "#### Add operation in Linked list:\n",
        "add(data) function:\n",
        "1. Create a new node with the data\n",
        "2. If the linked list is empty (head node is not referring to any other node), \n",
        "   make the head node and the tail node refer to the new node\n",
        "3. Otherwise,\n",
        "   a. Make the tail node’s link refer to new node\n",
        "   b. Call the new node as tail node"
      ]
    },
    {
      "cell_type": "code",
      "metadata": {
        "id": "Z8vDXyl7WWwh",
        "colab_type": "code",
        "outputId": "9b413a22-cfb7-4526-d118-23d8dd59a955",
        "colab": {
          "base_uri": "https://localhost:8080/",
          "height": 181
        }
      },
      "source": [
        "class LinkedList:\n",
        "  def __init__(self):\n",
        "    self.__head=None\n",
        "    self.__tail=None \n",
        "  \n",
        "  def get_head(self):\n",
        "    return self.__head\n",
        "  \n",
        "  def set_head(self,node):\n",
        "    self.__head=node \n",
        "  \n",
        "  def get_tail(self):\n",
        "    return self.__tail\n",
        "\n",
        "  def set_tail(self,node):\n",
        "    self.__tail = node \n",
        "\n",
        "  def add(self,new_node):\n",
        "    if self.__head is None:\n",
        "      self.__head=self.__tail=new_node \n",
        "    else:\n",
        "      self.__tail.set_next(new_node)\n",
        "      self.__tail=new_node \n",
        "\n",
        "  def display(self):\n",
        "    if self.__head is None:\n",
        "      print(\"LinkedList is Empty\")\n",
        "    else:\n",
        "      temp = self.__head \n",
        "      print(\"Printing elements of list:\")\n",
        "      while temp is not None:\n",
        "        print(temp.get_data())\n",
        "        temp = temp.get_next()\n",
        "\n",
        "\n",
        "\n",
        "linkedlist1 = LinkedList()\n",
        "print(linkedlist1.get_head())\n",
        "print(linkedlist1.get_tail())\n",
        "\n",
        "# Adding a new Node in linked list\n",
        "node1=Node('MyData')\n",
        "linkedlist1.add(node1)\n",
        "# printing head and tail of Node again\n",
        "print(linkedlist1.get_head())\n",
        "print(linkedlist1.get_tail())\n",
        "\n",
        "# adding one more element:\n",
        "node2=Node('moreData')\n",
        "linkedlist1.add(node2)\n",
        "\n",
        "node3=Node('Node 3 data')\n",
        "linkedlist1.add(node3)\n",
        "print(linkedlist1.get_head().get_next().get_next().get_next())\n",
        "\n",
        "linkedlist1.display()"
      ],
      "execution_count": 0,
      "outputs": [
        {
          "output_type": "stream",
          "text": [
            "None\n",
            "None\n",
            "<__main__.Node object at 0x7f269adc5320>\n",
            "<__main__.Node object at 0x7f269adc5320>\n",
            "None\n",
            "Printing elements of list:\n",
            "MyData\n",
            "moreData\n",
            "Node 3 data\n"
          ],
          "name": "stdout"
        }
      ]
    },
    {
      "cell_type": "markdown",
      "metadata": {
        "id": "aBd7UA6Cb5sq",
        "colab_type": "text"
      },
      "source": [
        "#### Question: How will you access/print node2's data using linkedlist1 object?\n"
      ]
    },
    {
      "cell_type": "code",
      "metadata": {
        "id": "BTf4pZ2NcGHG",
        "colab_type": "code",
        "outputId": "b82c5aa9-46fd-4ef4-e223-9446dc6ebba8",
        "colab": {
          "base_uri": "https://localhost:8080/",
          "height": 35
        }
      },
      "source": [
        "print(linkedlist1.get_head().get_next().get_data())"
      ],
      "execution_count": 0,
      "outputs": [
        {
          "output_type": "stream",
          "text": [
            "moreData\n"
          ],
          "name": "stdout"
        }
      ]
    },
    {
      "cell_type": "markdown",
      "metadata": {
        "id": "288VfKGFcFS_",
        "colab_type": "text"
      },
      "source": [
        "Similarly you can print data of other Nodes as well using get_next.\n",
        "\n",
        "But what if the list contains a lot of Elements?\n",
        "\n",
        "Let's write a function to Display all the Nodes in Linked List"
      ]
    },
    {
      "cell_type": "markdown",
      "metadata": {
        "id": "rCs-jW9RV-Qn",
        "colab_type": "text"
      },
      "source": [
        "#### Display operation in LinkedList:\n",
        "- Call the head node as temp\n",
        "- While temp is not None,\n",
        "   1.  Display temp’s data\n",
        "   2. Make the next node as temp"
      ]
    },
    {
      "cell_type": "code",
      "metadata": {
        "id": "mdmr_WkFVkcs",
        "colab_type": "code",
        "outputId": "f1565930-ba5f-48f9-ab7f-be567263a3ee",
        "colab": {
          "base_uri": "https://localhost:8080/",
          "height": 90
        }
      },
      "source": [
        "class LinkedList:\n",
        "  # Constructor of linkedlist\n",
        "  def __init__(self):\n",
        "    self.__head=None\n",
        "    self.__tail=None \n",
        "  \n",
        "  # Getter Setter for attributes\n",
        "  def get_head(self):\n",
        "    return self.__head\n",
        "  \n",
        "  def set_head(self,node):\n",
        "    self.__head=node \n",
        "  \n",
        "  def get_tail(self):\n",
        "    return self.__tail\n",
        "\n",
        "  def set_tail(self,node):\n",
        "    self.__tail = node \n",
        "\n",
        "  # function to add a new node in last position\n",
        "  def add(self,new_node):\n",
        "    if self.__head is None:\n",
        "      self.__head = self.__tail = new_node\n",
        "    else:\n",
        "      self.__tail.set_next(new_node)\n",
        "      self.__tail=new_node \n",
        "  \n",
        "  # Function to display the all the elements in Linked list \n",
        "  def display(self):\n",
        "    if self.__head is None:\n",
        "      print(\"LinkedList is Empty\")\n",
        "    else:\n",
        "      temp = self.__head\n",
        "      \n",
        "      print(\"Printing elements of list:\")\n",
        "      while temp is not None:\n",
        "        print(temp.get_data())\n",
        "        temp = temp.get_next()\n",
        " \n",
        "\n",
        "\n",
        "linkedlist1 = LinkedList()\n",
        "\n",
        "\n",
        "# Adding a new Node in linked list\n",
        "node1=Node('Node1 Data')\n",
        "linkedlist1.add(node1)\n",
        "\n",
        "# adding one more element:\n",
        "node2=Node('Node2 Data')\n",
        "linkedlist1.add(node2)\n",
        "\n",
        "# adding one more element:\n",
        "node3=Node('Node3 Data')\n",
        "linkedlist1.add(node3)\n",
        "\n",
        "#Calling the display function\n",
        "linkedlist1.display()"
      ],
      "execution_count": 0,
      "outputs": [
        {
          "output_type": "stream",
          "text": [
            "Printing elements of list:\n",
            "Node1 Data\n",
            "Node2 Data\n",
            "Node3 Data\n"
          ],
          "name": "stdout"
        }
      ]
    },
    {
      "cell_type": "markdown",
      "metadata": {
        "id": "jz2qJiXqkx0G",
        "colab_type": "text"
      },
      "source": [
        "#### Searching the position/index of a node containing some data in list:\n",
        "\n"
      ]
    },
    {
      "cell_type": "code",
      "metadata": {
        "id": "CsMLZ9Trek-2",
        "colab_type": "code",
        "outputId": "6e3a816a-b333-4394-b4bc-42d3b22a0380",
        "colab": {
          "base_uri": "https://localhost:8080/",
          "height": 35
        }
      },
      "source": [
        "class LinkedList:\n",
        "  # Constructor of linkedlist\n",
        "  def __init__(self):\n",
        "    self.__head=None\n",
        "    self.__tail=None \n",
        "  \n",
        "  # Getter Setter for attributes\n",
        "  def get_head(self):\n",
        "    return self.__head\n",
        "  \n",
        "  def set_head(self,node):\n",
        "    self.__head=node \n",
        "  \n",
        "  def get_tail(self):\n",
        "    return self.__tail\n",
        "\n",
        "  def set_tail(self,node):\n",
        "    self.__tail = node \n",
        "\n",
        "  # function to add a new node in last position\n",
        "  def add(self,new_node):\n",
        "    if self.__head is None:\n",
        "      self.__head = self.__tail = new_node\n",
        "    else:\n",
        "      self.__tail.set_next(new_node)\n",
        "      self.__tail=new_node \n",
        "  \n",
        "  # Function to display the all the elements in Linked list \n",
        "  def display(self):\n",
        "    if self.__head is None:\n",
        "      print(\"LinkedList is Empty\")\n",
        "    else:\n",
        "      temp = self.__head\n",
        "      \n",
        "      print(\"Printing elements of list:\")\n",
        "      while temp is not None:\n",
        "        print(temp.get_data())\n",
        "        temp = temp.get_next()\n",
        "  def find_index(self , data):\n",
        "    temp = self.__head\n",
        "    count=0\n",
        "    \n",
        "    while temp is not None:\n",
        "      if temp.get_data()==data:\n",
        "        return data+\" is present at index: \" +str(count)\n",
        "      else:\n",
        "        count+=1 \n",
        "      temp = temp.get_next()\n",
        "    \n",
        "    return data + \"is Not present in Linked List\"\n",
        "    \n",
        "      \n",
        "\n",
        "\n",
        "linkedlist1 = LinkedList()\n",
        "\n",
        "\n",
        "# Adding a new Node in linked list\n",
        "node1=Node('Node1 Data')\n",
        "linkedlist1.add(node1)\n",
        "\n",
        "# adding one more element:\n",
        "node2=Node('Node2 Data')\n",
        "linkedlist1.add(node2)\n",
        "\n",
        "# adding one more element:\n",
        "node3=Node('Node3 Data')\n",
        "linkedlist1.add(node3)\n",
        "\n",
        "#Calling the display function\n",
        "linkedlist1.find_index(\"Node3 Data\")\n"
      ],
      "execution_count": 0,
      "outputs": [
        {
          "output_type": "execute_result",
          "data": {
            "text/plain": [
              "'Node3 Data is present at index: 2'"
            ]
          },
          "metadata": {
            "tags": []
          },
          "execution_count": 32
        }
      ]
    },
    {
      "cell_type": "markdown",
      "metadata": {
        "id": "4TTLActFsHeg",
        "colab_type": "text"
      },
      "source": [
        "\n",
        "#### FindNode:"
      ]
    },
    {
      "cell_type": "code",
      "metadata": {
        "id": "CSfOGlNMrN6e",
        "colab_type": "code",
        "outputId": "e113b47a-278c-4788-d831-31a112a33f70",
        "colab": {
          "base_uri": "https://localhost:8080/",
          "height": 35
        }
      },
      "source": [
        "class LinkedList:\n",
        "  # Constructor of linkedlist\n",
        "  def __init__(self):\n",
        "    self.__head=None\n",
        "    self.__tail=None \n",
        "  \n",
        "  # Getter Setter for attributes\n",
        "  def get_head(self):\n",
        "    return self.__head\n",
        "  \n",
        "  def set_head(self,node):\n",
        "    self.__head=node \n",
        "  \n",
        "  def get_tail(self):\n",
        "    return self.__tail\n",
        "\n",
        "  def set_tail(self,node):\n",
        "    self.__tail = node \n",
        "\n",
        "  # function to add a new node in last position\n",
        "  def add(self,new_node):\n",
        "    if self.__head is None:\n",
        "      self.__head = self.__tail = new_node\n",
        "    else:\n",
        "      self.__tail.set_next(new_node)\n",
        "      self.__tail=new_node \n",
        "  \n",
        "  # Function to display the all the elements in Linked list \n",
        "  def display(self):\n",
        "    if self.__head is None:\n",
        "      print(\"LinkedList is Empty\")\n",
        "    else:\n",
        "      temp = self.__head\n",
        "      \n",
        "      print(\"Printing elements of list:\")\n",
        "      while temp is not None:\n",
        "        print(temp.get_data())\n",
        "        temp = temp.get_next()\n",
        "  def find_index(self , data):\n",
        "    temp = self.__head\n",
        "    count=0\n",
        "    \n",
        "    while temp is not None:\n",
        "      if temp.get_data()==data:\n",
        "        return data+\" is present at index: \" +str(count)\n",
        "      else:\n",
        "        count+=1 \n",
        "      temp = temp.get_next()\n",
        "    \n",
        "    return data + \"is Not present in Linked List\"\n",
        "\n",
        "  def find_node(self, data):\n",
        "    temp = self.__head\n",
        "    while temp is not None:\n",
        "      if temp.get_data()==data:\n",
        "        return temp\n",
        "      temp = temp.get_next()\n",
        "\n",
        "    return None     \n",
        "\n",
        "\n",
        "linkedlist1 = LinkedList()\n",
        "\n",
        "\n",
        "# Adding a new Node in linked list\n",
        "node1=Node('Node1 Data')\n",
        "linkedlist1.add(node1)\n",
        "\n",
        "# adding one more element:\n",
        "node2=Node('Node2 Data')\n",
        "linkedlist1.add(node2)\n",
        "\n",
        "# adding one more element:\n",
        "node3=Node('Node3 Data')\n",
        "linkedlist1.add(node3)\n",
        "\n",
        "#Calling the display function\n",
        "print(linkedlist1.find_node(\"Node3 Data\"))"
      ],
      "execution_count": 0,
      "outputs": [
        {
          "output_type": "stream",
          "text": [
            "Data stored in this Node is: Node3 Data\n"
          ],
          "name": "stdout"
        }
      ]
    },
    {
      "cell_type": "code",
      "metadata": {
        "id": "hwMs_O7lslXD",
        "colab_type": "code",
        "outputId": "be37869c-6ac4-43ba-99d2-523b8c2d1b9f",
        "colab": {
          "base_uri": "https://localhost:8080/",
          "height": 35
        }
      },
      "source": [
        "my_var = 5\n",
        "my_var_name = [ k for k,v in locals().items() if v == my_var][0]\n",
        "my_var_name"
      ],
      "execution_count": 0,
      "outputs": [
        {
          "output_type": "execute_result",
          "data": {
            "text/plain": [
              "'my_var'"
            ]
          },
          "metadata": {
            "tags": []
          },
          "execution_count": 39
        }
      ]
    },
    {
      "cell_type": "code",
      "metadata": {
        "id": "cramH8L-y4fp",
        "colab_type": "code",
        "colab": {}
      },
      "source": [
        "class Node:\n",
        "  def __init__(self,data):\n",
        "    self.__data = data\n",
        "    self.__next = None\n",
        "  \n",
        "    \n",
        "  def get_data(self):\n",
        "    return self.__data\n",
        "\n",
        "  def set_data(self, data):\n",
        "    self.__data = data\n",
        "\n",
        "  def get_next(self):\n",
        "    return self.__next\n",
        "\n",
        "  def set_next(self, next_node):\n",
        "    self.__next=next_node\n",
        "  \n"
      ],
      "execution_count": 0,
      "outputs": []
    },
    {
      "cell_type": "code",
      "metadata": {
        "id": "4lL75XUMAkKE",
        "colab_type": "code",
        "outputId": "c1a8d45a-0fb7-42df-e27d-cbace85d4db1",
        "colab": {
          "base_uri": "https://localhost:8080/",
          "height": 72
        }
      },
      "source": [
        "class LinkedList:\n",
        "  # Constructor of linkedlist\n",
        "  def __init__(self):\n",
        "    self.__head=None\n",
        "    self.__tail=None \n",
        "  \n",
        "  # Getter Setter for attributes\n",
        "  def get_head(self):\n",
        "    return self.__head\n",
        "  \n",
        "  def set_head(self,node):\n",
        "    self.__head=node \n",
        "  \n",
        "  def get_tail(self):\n",
        "    return self.__tail\n",
        "\n",
        "  def set_tail(self,node):\n",
        "    self.__tail = node \n",
        "\n",
        "  def add(self,new_node):\n",
        "    if self.__head is None:\n",
        "      self.__head = self.__tail = new_node\n",
        "    else:\n",
        "      self.__tail.set_next(new_node)\n",
        "      self.__tail = new_node \n",
        "\n",
        "  def display(self):\n",
        "    temp = self.__head\n",
        "    if temp is None:\n",
        "      print(\"Empty list\")\n",
        "    else:\n",
        "      while temp is not None:\n",
        "        print(temp.get_data())\n",
        "        temp = temp.get_next()\n",
        "\n",
        "\n",
        "  def find_node(self, data):\n",
        "    temp = self.__head\n",
        "    while temp is not None:\n",
        "      if temp.get_data()==data:\n",
        "        return temp\n",
        "      temp=temp.get_next()\n",
        "\n",
        "    print(\"Node Not Present\")\n",
        "    return None\n",
        "\n",
        "  def \n",
        "linkedlist1 = LinkedList()\n",
        "\n",
        "# Adding a new Node in linked list\n",
        "node1=Node('Node1 Data')\n",
        "linkedlist1.add(node1)\n",
        "\n",
        "# adding one more element:\n",
        "node2=Node('Node2 Data')\n",
        "linkedlist1.add(node2)\n",
        "\n",
        "linkedlist1.display()\n",
        "linkedlist1.find_node('Node Data')\n"
      ],
      "execution_count": 0,
      "outputs": [
        {
          "output_type": "stream",
          "text": [
            "Node1 Data\n",
            "Node2 Data\n",
            "Node Not Present\n"
          ],
          "name": "stdout"
        }
      ]
    },
    {
      "cell_type": "markdown",
      "metadata": {
        "id": "YaueXyb2Kwp8",
        "colab_type": "text"
      },
      "source": [
        "#### Function to insert a new Node after any existing Node\n",
        "insert function(data,data_before):\n",
        "- Create a new node with the given data\n",
        "- If the data_before is None,\n",
        "    1. Make the new node's link refer to head node \n",
        "    2. Call the new node as head node\n",
        "    3. If the new node's link is None, make it the tail node\n",
        "3. Else\n",
        "    1. Find the node with data_before, once found consider it as node_before\n",
        "    2. Make the new node’s link refer to node_before’s link.\n",
        "    3. Make the node_before’s link refer to new node\n",
        "    4. If new node’s link is None, make it the tail node\n",
        "- If node with data_before is not found, display appropriate error message"
      ]
    },
    {
      "cell_type": "code",
      "metadata": {
        "id": "PztshrfDBQPg",
        "colab_type": "code",
        "outputId": "f4dbd21e-fb7d-4be6-d0e8-3e075fe4eb6e",
        "colab": {
          "base_uri": "https://localhost:8080/",
          "height": 199
        }
      },
      "source": [
        "class Node:\n",
        "  def __init__(self,data):\n",
        "    self.__data = data\n",
        "    self.__next = None\n",
        "  \n",
        "  def get_data(self):\n",
        "    return self.__data\n",
        "\n",
        "  def set_data(self, data):\n",
        "    self.__data = data\n",
        "\n",
        "  def get_next(self):\n",
        "    return self.__next\n",
        "\n",
        "  def set_next(self, next_node):\n",
        "    self.__next=next_node\n",
        "\n",
        "  def __str__(self):\n",
        "    return (\"Data stored in this Node is: \"+ self.__data)\n",
        "\n",
        "\n",
        "class LinkedList:\n",
        "  # Constructor of linkedlist\n",
        "  def __init__(self):\n",
        "    self.__head=None\n",
        "    self.__tail=None \n",
        "  \n",
        "  # Getter Setter for attributes\n",
        "  def get_head(self):\n",
        "    return self.__head\n",
        "  \n",
        "  def set_head(self,node):\n",
        "    self.__head=node \n",
        "  \n",
        "  def get_tail(self):\n",
        "    return self.__tail\n",
        "\n",
        "  def set_tail(self,node):\n",
        "    self.__tail = node \n",
        "\n",
        "  # function to add a new node in last position\n",
        "  def add(self,new_node):\n",
        "    if self.__head is None:\n",
        "      self.__head = self.__tail = new_node\n",
        "    else:\n",
        "      self.__tail.set_next(new_node)\n",
        "      self.__tail=new_node \n",
        "  \n",
        "  # Function to display the all the elements in Linked list \n",
        "  def display(self):\n",
        "    if self.__head is None:\n",
        "      print(\"LinkedList is Empty\")\n",
        "    else:\n",
        "      temp = self.__head\n",
        "      \n",
        "      print(\"Printing elements of list:\")\n",
        "      while temp is not None:\n",
        "        print(temp.get_data())\n",
        "        temp = temp.get_next()\n",
        "  def find_index(self , data):\n",
        "    temp = self.__head\n",
        "    count=0\n",
        "    \n",
        "    while temp is not None:\n",
        "      if temp.get_data()==data:\n",
        "        return data+\" is present at index: \" +str(count)\n",
        "      else:\n",
        "        count+=1 \n",
        "      temp = temp.get_next()\n",
        "    \n",
        "    return data + \"is Not present in Linked List\"\n",
        "\n",
        "  def find_node(self, data):\n",
        "    temp = self.__head\n",
        "    while temp is not None:\n",
        "      if temp.get_data()==data:\n",
        "        return temp\n",
        "      temp = temp.get_next()\n",
        "\n",
        "    return None \n",
        "\n",
        "\n",
        "  def insert(self, data, data_before=None):\n",
        "    new_node = Node(data)\n",
        "\n",
        "    if data_before is None:\n",
        "      new_node.set_next(self.__head)\n",
        "      self.__head=new_node \n",
        "      if new_node.get_next() is None:\n",
        "        self.__tail = new_node \n",
        "    else:\n",
        "      node_before = self.find_node(data_before)\n",
        "      if node_before is not None:\n",
        "        new_node.set_next(node_before.get_next())\n",
        "        node_before.set_next(new_node)\n",
        "        if new_node.get_next() is None:\n",
        "          self.__tail = new_node \n",
        "        print(new_node.get_data()+\" inserted after \"+node_before.get_data())\n",
        "      else:\n",
        "        print(data_before, \" not found in LinkedList\")\n",
        "\n",
        "\n",
        "\n",
        "linkedlist1 = LinkedList()\n",
        "\n",
        "\n",
        "# Adding a new Node in linked list\n",
        "node1=Node('Node1 Data')\n",
        "linkedlist1.add(node1)\n",
        "\n",
        "# adding one more element:\n",
        "node2=Node('Node2 Data')\n",
        "linkedlist1.add(node2)\n",
        "\n",
        "# adding one more element:\n",
        "node3=Node('Node3 Data')\n",
        "linkedlist1.add(node3)\n",
        "\n",
        "# inserting Data in Linked List\n",
        "# at Head\n",
        "linkedlist1.insert('New Head Node')\n",
        "\n",
        "# in Between\n",
        "linkedlist1.insert('One More Node', 'Node2 Data')\n",
        "\n",
        "# at tail\n",
        "linkedlist1.insert('New Tail Node', 'Node3 Data')\n",
        "\n",
        "print(\"\")\n",
        "#Calling the display function\n",
        "linkedlist1.display()\n"
      ],
      "execution_count": 0,
      "outputs": [
        {
          "output_type": "stream",
          "text": [
            "One More Node inserted after Node2 Data\n",
            "New Tail Node inserted after Node3 Data\n",
            "\n",
            "Printing elements of list:\n",
            "New Head Node\n",
            "Node1 Data\n",
            "Node2 Data\n",
            "One More Node\n",
            "Node3 Data\n",
            "New Tail Node\n"
          ],
          "name": "stdout"
        }
      ]
    },
    {
      "cell_type": "markdown",
      "metadata": {
        "id": "vvaB43KXTZZP",
        "colab_type": "text"
      },
      "source": [
        "#### Deleting Node Containing specified data from\n",
        "function delete(data):\n",
        "- Find the node with the given data. If found,\n",
        "   1. If the node to be deleted is head node, make the next node as head node\n",
        "      - If it is also the tail node, make the tail node as None\n",
        "   2. Otherwise,\n",
        "      - Traverse till the node before the node to be deleted, call it temp\n",
        "      - Make temp’s link refer to node’s link.\n",
        "      - If the node to be deleted is the tail node, call the temp as tail node\n",
        "      - Make the node's link as None\n",
        "- If the node to be deleted is not found, display appropriate error message"
      ]
    },
    {
      "cell_type": "code",
      "metadata": {
        "id": "xXMToPV4NdAD",
        "colab_type": "code",
        "colab": {
          "base_uri": "https://localhost:8080/",
          "height": 672
        },
        "outputId": "53f9dd8d-c149-4c34-ef8d-a4225d697dce"
      },
      "source": [
        "class Node:\n",
        "  def __init__(self, data):\n",
        "    self.__data = data\n",
        "    self.__next = None\n",
        "\n",
        "  def get_data(self):\n",
        "    return self.__data\n",
        "\n",
        "  def set_data(self, data):\n",
        "    self.__data = data\n",
        "\n",
        "  def get_next(self):\n",
        "    return self.__next\n",
        "\n",
        "  def set_next(self, next_node):\n",
        "    self.__next=next_node\n",
        "\n",
        "  def __str__(self):\n",
        "    return (\"Data stored in this Node is: \"+ self.__data)\n",
        "\n",
        "class LinkedList:\n",
        "  def __init__(self):\n",
        "    self.__head = None\n",
        "    self.__tail = None\n",
        "\n",
        "  def append(self,data):\n",
        "    print(\"\\nAppending: \", data)\n",
        "    new_node=Node(data)\n",
        "    if self.__head is None:\n",
        "      self.__head = self.__tail = new_node\n",
        "    else:\n",
        "      self.__tail.set_next(new_node)\n",
        "      self.__tail=new_node\n",
        "\n",
        "  def display(self):\n",
        "    print(\"\\nDisplaying all Nodes: \")\n",
        "    temp = self.__head\n",
        "    if temp is None:\n",
        "      print(\"Linked List is empty\") \n",
        "    else:\n",
        "      \n",
        "      while temp is not None:\n",
        "        print(temp.get_data())\n",
        "        temp=temp.get_next()\n",
        "      print(\"Head Node: \",self.__head)\n",
        "      print(\"Tail Node: \", self.__tail)\n",
        "\n",
        "  def find_node(self,data):\n",
        "    print(\"\\nFinding Node with data: \", data)\n",
        "    temp = self.__head \n",
        "    while temp is not None:\n",
        "      if data == temp.get_data():\n",
        "        return temp\n",
        "      temp = temp.get_next() \n",
        "    return None \n",
        "\n",
        "\n",
        "  def insert(self, data, data_before=None):\n",
        "    print(\"\\nInserting \", data, \" after \",  data_before)\n",
        "    new_node = Node(data)\n",
        "    if data_before is None:\n",
        "      # we will add it in first place\n",
        "      new_node.set_next(self.__head)\n",
        "      self.__head = new_node \n",
        "      if new_node.get_next() is None:\n",
        "        self.__tail = new_node \n",
        "\n",
        "    else:\n",
        "      node_before = self.find_node(data_before)\n",
        "      if node_before is None:\n",
        "        print(\"Data before is not present \")\n",
        "      else: \n",
        "        new_node.set_next(node_before.get_next())\n",
        "        node_before.set_next(new_node)\n",
        "        if new_node.get_next() is None:\n",
        "          self.__tail = new_node\n",
        "\n",
        "\n",
        "    \n",
        "\n",
        "\n",
        "linkedlist1 = LinkedList()\n",
        "linkedlist1.append(\"Node 1 Data\")\n",
        "linkedlist1.append(\"Node 2 Data\")\n",
        "linkedlist1.display()\n",
        "print(linkedlist1.find_node(\"Node 2 Data\"))\n",
        "linkedlist1.insert(\"Node 3 Data\", 'Node 2 Data')\n",
        "linkedlist1.display()\n",
        "linkedlist1.insert(\"Node 2.5 Data\", 'Node 2 Data')\n",
        "linkedlist1.display()\n",
        "  "
      ],
      "execution_count": 25,
      "outputs": [
        {
          "output_type": "stream",
          "text": [
            "\n",
            "Appending:  Node 1 Data\n",
            "\n",
            "Appending:  Node 2 Data\n",
            "\n",
            "Displaying all Nodes: \n",
            "Node 1 Data\n",
            "Node 2 Data\n",
            "Head Node:  Data stored in this Node is: Node 1 Data\n",
            "Tail Node:  Data stored in this Node is: Node 2 Data\n",
            "\n",
            "Finding Node with data:  Node 2 Data\n",
            "Data stored in this Node is: Node 2 Data\n",
            "\n",
            "Inserting  Node 3 Data  after  Node 2 Data\n",
            "\n",
            "Finding Node with data:  Node 2 Data\n",
            "\n",
            "Displaying all Nodes: \n",
            "Node 1 Data\n",
            "Node 2 Data\n",
            "Node 3 Data\n",
            "Head Node:  Data stored in this Node is: Node 1 Data\n",
            "Tail Node:  Data stored in this Node is: Node 3 Data\n",
            "\n",
            "Inserting  Node 2.5 Data  after  Node 2 Data\n",
            "\n",
            "Finding Node with data:  Node 2 Data\n",
            "\n",
            "Displaying all Nodes: \n",
            "Node 1 Data\n",
            "Node 2 Data\n",
            "Node 2.5 Data\n",
            "Node 3 Data\n",
            "Head Node:  Data stored in this Node is: Node 1 Data\n",
            "Tail Node:  Data stored in this Node is: Node 3 Data\n"
          ],
          "name": "stdout"
        }
      ]
    },
    {
      "cell_type": "code",
      "metadata": {
        "id": "TiAmQrEL-F2K",
        "colab_type": "code",
        "colab": {}
      },
      "source": [
        ""
      ],
      "execution_count": 0,
      "outputs": []
    }
  ]
}