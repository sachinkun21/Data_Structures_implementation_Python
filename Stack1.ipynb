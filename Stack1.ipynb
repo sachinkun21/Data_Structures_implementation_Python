{
  "nbformat": 4,
  "nbformat_minor": 0,
  "metadata": {
    "colab": {
      "name": "Stack1.ipynb",
      "provenance": [],
      "collapsed_sections": [],
      "include_colab_link": true
    },
    "kernelspec": {
      "name": "python3",
      "display_name": "Python 3"
    }
  },
  "cells": [
    {
      "cell_type": "markdown",
      "metadata": {
        "id": "view-in-github",
        "colab_type": "text"
      },
      "source": [
        "<a href=\"https://colab.research.google.com/github/sachinkun21/Data_Structures_implementation_Python/blob/master/Stack1.ipynb\" target=\"_parent\"><img src=\"https://colab.research.google.com/assets/colab-badge.svg\" alt=\"Open In Colab\"/></a>"
      ]
    },
    {
      "cell_type": "markdown",
      "metadata": {
        "id": "zI-rtlKDL48V",
        "colab_type": "text"
      },
      "source": [
        "## Introduction to Stack:\n",
        "follows Last-In-First-Out (LIFO) principle is known as Stack.\n",
        "Operations possible on the stack are:\n",
        "\n",
        "Push or insert an element to the top of the stack\n",
        "Pop or remove an element from top of the stack\n"
      ]
    },
    {
      "cell_type": "markdown",
      "metadata": {
        "id": "hxbBzJmlW-Nn",
        "colab_type": "text"
      },
      "source": [
        "### Stack implementation using Python and OOPS:\n",
        "#### Node:"
      ]
    },
    {
      "cell_type": "code",
      "metadata": {
        "id": "qwiH54xoNMgc",
        "colab_type": "code",
        "colab": {}
      },
      "source": [
        "class Stack:\n",
        "\n",
        "  def __init__(self, max_size):\n",
        "    self.__max_size = max_size\n",
        "    self.__elements = [None]*max_size \n",
        "    self.__top = -1 \n",
        "  \n",
        "  "
      ],
      "execution_count": 0,
      "outputs": []
    },
    {
      "cell_type": "markdown",
      "metadata": {
        "id": "IzDFJ8r5Oipe",
        "colab_type": "text"
      },
      "source": [
        "### Push Operation in Stack: Inserting Elements\n",
        "#### Push(data):\n",
        "1. Check whether the stack is full. If full, display appropriate message\n",
        "2. If not,\n",
        "   a. increment top by one\n",
        "   b. Add the element at top position in the elements array"
      ]
    },
    {
      "cell_type": "code",
      "metadata": {
        "id": "v-Wp44zOOh20",
        "colab_type": "code",
        "colab": {
          "base_uri": "https://localhost:8080/",
          "height": 68
        },
        "outputId": "55d95be5-2576-4257-c839-306d5976f60c"
      },
      "source": [
        "class Stack:\n",
        "\n",
        "  def __init__(self, max_size):\n",
        "    self.__max_size = max_size \n",
        "    self.__elements = [None]*max_size \n",
        "    self.__top = -1\n",
        "\n",
        "   \n",
        "  def display(self):\n",
        "    for element in self.__elements:\n",
        "      print(element)\n",
        "  def push(self, data):\n",
        "    if self.__top!= self.__max_size-1:\n",
        "      self.__elements[self.__top+1]=(data)\n",
        "      self.__top+=1\n",
        "      \n",
        "\n",
        "    else:\n",
        "      print(\"Stack is full\")\n",
        "\n",
        "stack1 = Stack(2)\n",
        "stack1.push(\"Data1\")\n",
        "stack1.push(\"Data2\")\n",
        "stack1.push(\"Data2\")\n",
        "stack1.display()\n",
        "\n",
        "\n"
      ],
      "execution_count": 16,
      "outputs": [
        {
          "output_type": "stream",
          "text": [
            "Stack is full\n",
            "Data1\n",
            "Data2\n"
          ],
          "name": "stdout"
        }
      ]
    },
    {
      "cell_type": "markdown",
      "metadata": {
        "id": "rjfAKh0tQzO5",
        "colab_type": "text"
      },
      "source": [
        "#### Exercise"
      ]
    },
    {
      "cell_type": "code",
      "metadata": {
        "id": "r3GmSl-8Qxe4",
        "colab_type": "code",
        "colab": {}
      },
      "source": [
        "class Stack:\n",
        "    def __init__(self,max_size):\n",
        "        self.__max_size=max_size\n",
        "        self.__elements=[None]*self.__max_size\n",
        "        self.__top=-1\n",
        "\n",
        "    def get_max_size(self):\n",
        "        return self.__max_size\n",
        "\n",
        "    def is_full(self):\n",
        "        pass\n",
        "        #Remove pass and write the logic to check whether stack is full. If the stack is full, return true else return false.\n",
        "\n",
        "    def push(self,data):\n",
        "        pass\n",
        "        #Remove pass and write the logic to push element into the stack. Element should be pushed only if the stack is not full. Otherwise, display appropriate message\n",
        "                                          \n",
        "   \n",
        "\n",
        "stack1=Stack(5)\n",
        "#Push all the required element(s).\n",
        "stack1.push(\"Data1\")\n"
      ],
      "execution_count": 0,
      "outputs": []
    },
    {
      "cell_type": "markdown",
      "metadata": {
        "id": "HE1v0IJRUW01",
        "colab_type": "text"
      },
      "source": [
        "Solution:\n"
      ]
    },
    {
      "cell_type": "code",
      "metadata": {
        "id": "mIC8EmmvUWDz",
        "colab_type": "code",
        "colab": {
          "base_uri": "https://localhost:8080/",
          "height": 51
        },
        "outputId": "b1532b46-d9b2-4481-f5c3-b4719f096812"
      },
      "source": [
        "class Stack:\n",
        "    def __init__(self,max_size):\n",
        "        self.__max_size=max_size\n",
        "        self.__elements=[None]*self.__max_size\n",
        "        self.__top=-1\n",
        "\n",
        "    def get_max_size(self):\n",
        "        return self.__max_size\n",
        "\n",
        "    def is_full(self):\n",
        "        if self.__top+1 == self.__max_size:\n",
        "          return True\n",
        "        else:\n",
        "          return False \n",
        "        \n",
        "    def push(self,data):\n",
        "        if self.is_full() == True:\n",
        "          print(\"Stack is Full\")\n",
        "        else:\n",
        "          self.__top+=1\n",
        "          self.__elements[self.__top]=data \n",
        "          \n",
        "        \n",
        "                                          \n",
        "    #You can use the below __str__() to print the elements of the DS object while debugging\n",
        "    def __str__(self):\n",
        "        msg=[]\n",
        "        index=self.__top\n",
        "        while(index>=0):\n",
        "            msg.append((str)(self.__elements[index]))\n",
        "            index-=1\n",
        "        msg=\" \".join(msg)\n",
        "        msg=\"Stack data(Top to Bottom): \"+msg\n",
        "        return msg\n",
        "\n",
        "stack1=Stack(2)\n",
        "#Push all the required element(s).\n",
        "stack1.push(\"Data1\")\n",
        "stack1.push(\"Data2\")\n",
        "\n",
        "# Now the stack is full, adding one more element to verify\n",
        "stack1.push(\"Data3\")\n",
        "print(stack1)"
      ],
      "execution_count": 25,
      "outputs": [
        {
          "output_type": "stream",
          "text": [
            "Stack is Full\n",
            "Stack data(Top to Bottom): Data2 Data1\n"
          ],
          "name": "stdout"
        }
      ]
    },
    {
      "cell_type": "markdown",
      "metadata": {
        "id": "eZaqC0VJV-7R",
        "colab_type": "text"
      },
      "source": [
        ""
      ]
    },
    {
      "cell_type": "code",
      "metadata": {
        "id": "HVGsxRW6WMaX",
        "colab_type": "code",
        "colab": {}
      },
      "source": [
        ""
      ],
      "execution_count": 0,
      "outputs": []
    },
    {
      "cell_type": "code",
      "metadata": {
        "id": "O62LTF_PWMXy",
        "colab_type": "code",
        "colab": {}
      },
      "source": [
        ""
      ],
      "execution_count": 0,
      "outputs": []
    },
    {
      "cell_type": "code",
      "metadata": {
        "id": "Zct4X-zuWMU4",
        "colab_type": "code",
        "colab": {}
      },
      "source": [
        ""
      ],
      "execution_count": 0,
      "outputs": []
    },
    {
      "cell_type": "code",
      "metadata": {
        "id": "VcLaHT_aV_kV",
        "colab_type": "code",
        "colab": {}
      },
      "source": [
        ""
      ],
      "execution_count": 0,
      "outputs": []
    },
    {
      "cell_type": "markdown",
      "metadata": {
        "id": "YaueXyb2Kwp8",
        "colab_type": "text"
      },
      "source": [
        "#### Function to insert a new Node after any existing Node\n",
        "insert function(data,data_before):\n",
        "- Create a new node with the given data\n",
        "- If the data_before is None,\n",
        "    1. Make the new node's link refer to head node \n",
        "    2. Call the new node as head node\n",
        "    3. If the new node's link is None, make it the tail node\n",
        "3. Else\n",
        "    1. Find the node with data_before, once found consider it as node_before\n",
        "    2. Make the new node’s link refer to node_before’s link.\n",
        "    3. Make the node_before’s link refer to new node\n",
        "    4. If new node’s link is None, make it the tail node\n",
        "- If node with data_before is not found, display appropriate error message"
      ]
    }
  ]
}