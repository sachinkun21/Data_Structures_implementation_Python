{
  "nbformat": 4,
  "nbformat_minor": 0,
  "metadata": {
    "colab": {
      "name": "Stack1.ipynb",
      "provenance": [],
      "collapsed_sections": [],
      "include_colab_link": true
    },
    "kernelspec": {
      "name": "python3",
      "display_name": "Python 3"
    }
  },
  "cells": [
    {
      "cell_type": "markdown",
      "metadata": {
        "id": "view-in-github",
        "colab_type": "text"
      },
      "source": [
        "<a href=\"https://colab.research.google.com/github/sachinkun21/Data_Structures_implementation_Python/blob/master/Stack1.ipynb\" target=\"_parent\"><img src=\"https://colab.research.google.com/assets/colab-badge.svg\" alt=\"Open In Colab\"/></a>"
      ]
    },
    {
      "cell_type": "markdown",
      "metadata": {
        "id": "zI-rtlKDL48V",
        "colab_type": "text"
      },
      "source": [
        "## Introduction to Linked List:\n",
        "#### Why Linked List?\n",
        "Arrays can be used to store linear data of similar types, but arrays have the following limitations.\n",
        "1. The size of the arrays is fixed: So we must know the upper limit on the number of elements in advance. Also, generally, the allocated memory is equal to the upper limit irrespective of the usage.\n",
        "2. Inserting a new element in an array of elements is expensive because the room has to be created for the new elements and to create room existing elements have to be shifted.\n",
        "\n"
      ]
    },
    {
      "cell_type": "markdown",
      "metadata": {
        "id": "hxbBzJmlW-Nn",
        "colab_type": "text"
      },
      "source": [
        "### Linked List implementation using Python and OOPS:\n",
        "#### Node:"
      ]
    },
    {
      "cell_type": "markdown",
      "metadata": {
        "id": "YaueXyb2Kwp8",
        "colab_type": "text"
      },
      "source": [
        "#### Function to insert a new Node after any existing Node\n",
        "insert function(data,data_before):\n",
        "- Create a new node with the given data\n",
        "- If the data_before is None,\n",
        "    1. Make the new node's link refer to head node \n",
        "    2. Call the new node as head node\n",
        "    3. If the new node's link is None, make it the tail node\n",
        "3. Else\n",
        "    1. Find the node with data_before, once found consider it as node_before\n",
        "    2. Make the new node’s link refer to node_before’s link.\n",
        "    3. Make the node_before’s link refer to new node\n",
        "    4. If new node’s link is None, make it the tail node\n",
        "- If node with data_before is not found, display appropriate error message"
      ]
    }
  ]
}